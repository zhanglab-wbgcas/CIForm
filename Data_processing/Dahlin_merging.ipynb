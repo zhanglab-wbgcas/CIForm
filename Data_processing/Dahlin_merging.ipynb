{
 "cells": [
  {
   "cell_type": "markdown",
   "metadata": {},
   "source": [
    "# Mouse Bone Marrow - merging annotated samples from Dahlin et al."
   ]
  },
  {
   "cell_type": "code",
   "execution_count": 1,
   "metadata": {},
   "outputs": [],
   "source": [
    "import scanpy as sc\n",
    "import numpy as np\n",
    "import scipy as sp\n",
    "import pandas as pd\n",
    "import matplotlib.pyplot as plt\n",
    "from matplotlib import rcParams\n",
    "from matplotlib import colors\n",
    "import seaborn as sb\n",
    "import glob\n",
    "\n",
    "import rpy2.rinterface_lib.callbacks\n",
    "import logging\n",
    "\n",
    "from rpy2.robjects import pandas2ri\n",
    "import anndata2ri"
   ]
  },
  {
   "cell_type": "code",
   "execution_count": 2,
   "metadata": {},
   "outputs": [
    {
     "name": "stdout",
     "output_type": "stream",
     "text": [
      "scanpy==1.4.4.post1 anndata==0.6.22.post1 umap==0.3.10 numpy==1.17.3 scipy==1.3.0 pandas==0.24.2 scikit-learn==0.21.2 statsmodels==0.10.1 python-igraph==0.7.1 louvain==0.6.1\n"
     ]
    }
   ],
   "source": [
    "# Ignore R warning messages\n",
    "#Note: this can be commented out to get more verbose R output\n",
    "rpy2.rinterface_lib.callbacks.logger.setLevel(logging.ERROR)\n",
    "\n",
    "# Automatically convert rpy2 outputs to pandas dataframes\n",
    "pandas2ri.activate()\n",
    "anndata2ri.activate()\n",
    "%load_ext rpy2.ipython\n",
    "\n",
    "plt.rcParams['figure.figsize']=(8,8) #rescale figures\n",
    "sc.settings.verbosity = 3\n",
    "#sc.set_figure_params(dpi=200, dpi_save=300)\n",
    "sc.logging.print_versions()\n",
    "\n",
    "results_file = './write/Dahlin_mou_BM_pp.h5ad'"
   ]
  },
  {
   "cell_type": "code",
   "execution_count": 3,
   "metadata": {},
   "outputs": [],
   "source": [
    "%%R\n",
    "# Load all the R libraries we will be using in the notebook\n",
    "library(scran)"
   ]
  },
  {
   "cell_type": "markdown",
   "metadata": {},
   "source": [
    "## Load \n",
    "Here we load the pre-processed datasets (which has been annotated), and the raw matrices (which won't be filtered on the gene level). "
   ]
  },
  {
   "cell_type": "markdown",
   "metadata": {},
   "source": [
    "### Raw data"
   ]
  },
  {
   "cell_type": "code",
   "execution_count": 4,
   "metadata": {},
   "outputs": [
    {
     "name": "stdout",
     "output_type": "stream",
     "text": [
      "../../Munich/datasets/mouse/Dahlin_BoneMarrow/GSE107727_RAW/analyzed/GSM2877133_SIGAG8_counts.txt.gz\n",
      "... reading from cache file cache/..-..-Munich-datasets-mouse-Dahlin_BoneMarrow-GSE107727_RAW-analyzed-GSM2877133_SIGAG8_counts.h5ad\n",
      "../../Munich/datasets/mouse/Dahlin_BoneMarrow/GSE107727_RAW/analyzed/GSM2877129_SIGAD1_counts.txt.gz\n",
      "... reading from cache file cache/..-..-Munich-datasets-mouse-Dahlin_BoneMarrow-GSE107727_RAW-analyzed-GSM2877129_SIGAD1_counts.h5ad\n",
      "../../Munich/datasets/mouse/Dahlin_BoneMarrow/GSE107727_RAW/analyzed/GSM2877132_SIGAH1_counts.txt.gz\n",
      "... reading from cache file cache/..-..-Munich-datasets-mouse-Dahlin_BoneMarrow-GSE107727_RAW-analyzed-GSM2877132_SIGAH1_counts.h5ad\n",
      "../../Munich/datasets/mouse/Dahlin_BoneMarrow/GSE107727_RAW/analyzed/GSM2877130_SIGAF1_counts.txt.gz\n",
      "... reading from cache file cache/..-..-Munich-datasets-mouse-Dahlin_BoneMarrow-GSE107727_RAW-analyzed-GSM2877130_SIGAF1_counts.h5ad\n"
     ]
    }
   ],
   "source": [
    "file_paths = '../../Munich/datasets/mouse/Dahlin_BoneMarrow/GSE107727_RAW/analyzed/'\n",
    "adatas_raw = []\n",
    "for i in glob.glob(file_paths+'*.txt.gz'):\n",
    "    print(i)\n",
    "    adatas_raw.append(sc.read(i, cache=True)) "
   ]
  },
  {
   "cell_type": "code",
   "execution_count": 5,
   "metadata": {},
   "outputs": [],
   "source": [
    "samples = ['Dahlin_1', 'Dahlin_4', 'Dahlin_3', 'Dahlin_2']\n",
    "mapEnsembl2gene_symbol = pd.read_csv('../../Munich/datasets/mouse/Dahlin_BoneMarrow/ensembl2gene_symbol.tsv', header=None, sep='\\t')\n",
    "mapEnsembl2gene_symbol.rename(columns={0:'gene_ensembl', 1:'gene_symbol'}, inplace=True)\n",
    "# Loop to annotate data\n",
    "for i in range(len(adatas_raw)):\n",
    "    adata_tmp = adatas_raw[i]\n",
    "    adata_tmp = adata_tmp.transpose()\n",
    "    \n",
    "    #Annotate data\n",
    "    adata_tmp.obs.index.rename('barcode', inplace=True)\n",
    "    adata_tmp.obs['batch'] = [samples[i]]*adata_tmp.n_obs\n",
    "    adata_tmp.obs['study'] = ['Dahlin_BM']*adata_tmp.n_obs\n",
    "    adata_tmp.obs['chemistry'] = ['v2_10X']*adata_tmp.n_obs\n",
    "    adata_tmp.obs['tissue'] = ['Bone_Marrow']*adata_tmp.n_obs\n",
    "    adata_tmp.obs['species'] = ['Mouse']*adata_tmp.n_obs\n",
    "    adata_tmp.obs['data_type'] = ['UMI']*adata_tmp.n_obs\n",
    "\n",
    "    adata_tmp.var.index.names = ['gene_ensembl']\n",
    "    adata_genes = adata_tmp.var.reset_index()\n",
    "    # merge the two dataframes\n",
    "    adata_genes_merge = adata_genes.merge(mapEnsembl2gene_symbol, how='left', on='gene_ensembl')\n",
    "    adata_genes_merge.set_index('gene_symbol', inplace = True)\n",
    "    adata_tmp.var = adata_genes_merge\n",
    "    adata_tmp.var_names_make_unique()\n",
    "    adatas_raw[i] = adata_tmp\n"
   ]
  },
  {
   "cell_type": "code",
   "execution_count": 6,
   "metadata": {},
   "outputs": [
    {
     "data": {
      "text/html": [
       "<div>\n",
       "<style scoped>\n",
       "    .dataframe tbody tr th:only-of-type {\n",
       "        vertical-align: middle;\n",
       "    }\n",
       "\n",
       "    .dataframe tbody tr th {\n",
       "        vertical-align: top;\n",
       "    }\n",
       "\n",
       "    .dataframe thead th {\n",
       "        text-align: right;\n",
       "    }\n",
       "</style>\n",
       "<table border=\"1\" class=\"dataframe\">\n",
       "  <thead>\n",
       "    <tr style=\"text-align: right;\">\n",
       "      <th></th>\n",
       "      <th>batch</th>\n",
       "      <th>study</th>\n",
       "      <th>chemistry</th>\n",
       "      <th>tissue</th>\n",
       "      <th>species</th>\n",
       "      <th>data_type</th>\n",
       "    </tr>\n",
       "    <tr>\n",
       "      <th>barcode</th>\n",
       "      <th></th>\n",
       "      <th></th>\n",
       "      <th></th>\n",
       "      <th></th>\n",
       "      <th></th>\n",
       "      <th></th>\n",
       "    </tr>\n",
       "  </thead>\n",
       "  <tbody>\n",
       "    <tr>\n",
       "      <th>AAACCTGAGGCAGGTT-1</th>\n",
       "      <td>Dahlin_1</td>\n",
       "      <td>Dahlin_BM</td>\n",
       "      <td>v2_10X</td>\n",
       "      <td>Bone_Marrow</td>\n",
       "      <td>Mouse</td>\n",
       "      <td>UMI</td>\n",
       "    </tr>\n",
       "    <tr>\n",
       "      <th>AAACCTGCAAGCTGAG-1</th>\n",
       "      <td>Dahlin_1</td>\n",
       "      <td>Dahlin_BM</td>\n",
       "      <td>v2_10X</td>\n",
       "      <td>Bone_Marrow</td>\n",
       "      <td>Mouse</td>\n",
       "      <td>UMI</td>\n",
       "    </tr>\n",
       "    <tr>\n",
       "      <th>AAACCTGCAGATGGGT-1</th>\n",
       "      <td>Dahlin_1</td>\n",
       "      <td>Dahlin_BM</td>\n",
       "      <td>v2_10X</td>\n",
       "      <td>Bone_Marrow</td>\n",
       "      <td>Mouse</td>\n",
       "      <td>UMI</td>\n",
       "    </tr>\n",
       "    <tr>\n",
       "      <th>AAACCTGCATACAGCT-1</th>\n",
       "      <td>Dahlin_1</td>\n",
       "      <td>Dahlin_BM</td>\n",
       "      <td>v2_10X</td>\n",
       "      <td>Bone_Marrow</td>\n",
       "      <td>Mouse</td>\n",
       "      <td>UMI</td>\n",
       "    </tr>\n",
       "    <tr>\n",
       "      <th>AAACCTGCATCACGTA-1</th>\n",
       "      <td>Dahlin_1</td>\n",
       "      <td>Dahlin_BM</td>\n",
       "      <td>v2_10X</td>\n",
       "      <td>Bone_Marrow</td>\n",
       "      <td>Mouse</td>\n",
       "      <td>UMI</td>\n",
       "    </tr>\n",
       "  </tbody>\n",
       "</table>\n",
       "</div>"
      ],
      "text/plain": [
       "                       batch      study chemistry       tissue species  \\\n",
       "barcode                                                                  \n",
       "AAACCTGAGGCAGGTT-1  Dahlin_1  Dahlin_BM    v2_10X  Bone_Marrow   Mouse   \n",
       "AAACCTGCAAGCTGAG-1  Dahlin_1  Dahlin_BM    v2_10X  Bone_Marrow   Mouse   \n",
       "AAACCTGCAGATGGGT-1  Dahlin_1  Dahlin_BM    v2_10X  Bone_Marrow   Mouse   \n",
       "AAACCTGCATACAGCT-1  Dahlin_1  Dahlin_BM    v2_10X  Bone_Marrow   Mouse   \n",
       "AAACCTGCATCACGTA-1  Dahlin_1  Dahlin_BM    v2_10X  Bone_Marrow   Mouse   \n",
       "\n",
       "                   data_type  \n",
       "barcode                       \n",
       "AAACCTGAGGCAGGTT-1       UMI  \n",
       "AAACCTGCAAGCTGAG-1       UMI  \n",
       "AAACCTGCAGATGGGT-1       UMI  \n",
       "AAACCTGCATACAGCT-1       UMI  \n",
       "AAACCTGCATCACGTA-1       UMI  "
      ]
     },
     "execution_count": 6,
     "metadata": {},
     "output_type": "execute_result"
    }
   ],
   "source": [
    "adatas_raw[0].obs.head()"
   ]
  },
  {
   "cell_type": "code",
   "execution_count": 7,
   "metadata": {},
   "outputs": [],
   "source": [
    "# Concatenate to unique adata object\n",
    "adata_raw = adatas_raw[0].concatenate(adatas_raw[1:], batch_key='sample_ID', batch_categories=samples)"
   ]
  },
  {
   "cell_type": "code",
   "execution_count": 8,
   "metadata": {},
   "outputs": [
    {
     "data": {
      "text/html": [
       "<div>\n",
       "<style scoped>\n",
       "    .dataframe tbody tr th:only-of-type {\n",
       "        vertical-align: middle;\n",
       "    }\n",
       "\n",
       "    .dataframe tbody tr th {\n",
       "        vertical-align: top;\n",
       "    }\n",
       "\n",
       "    .dataframe thead th {\n",
       "        text-align: right;\n",
       "    }\n",
       "</style>\n",
       "<table border=\"1\" class=\"dataframe\">\n",
       "  <thead>\n",
       "    <tr style=\"text-align: right;\">\n",
       "      <th></th>\n",
       "      <th>batch</th>\n",
       "      <th>chemistry</th>\n",
       "      <th>data_type</th>\n",
       "      <th>sample_ID</th>\n",
       "      <th>species</th>\n",
       "      <th>study</th>\n",
       "      <th>tissue</th>\n",
       "    </tr>\n",
       "  </thead>\n",
       "  <tbody>\n",
       "    <tr>\n",
       "      <th>AAACCTGAGGCAGGTT-1-Dahlin_1</th>\n",
       "      <td>Dahlin_1</td>\n",
       "      <td>v2_10X</td>\n",
       "      <td>UMI</td>\n",
       "      <td>Dahlin_1</td>\n",
       "      <td>Mouse</td>\n",
       "      <td>Dahlin_BM</td>\n",
       "      <td>Bone_Marrow</td>\n",
       "    </tr>\n",
       "    <tr>\n",
       "      <th>AAACCTGCAAGCTGAG-1-Dahlin_1</th>\n",
       "      <td>Dahlin_1</td>\n",
       "      <td>v2_10X</td>\n",
       "      <td>UMI</td>\n",
       "      <td>Dahlin_1</td>\n",
       "      <td>Mouse</td>\n",
       "      <td>Dahlin_BM</td>\n",
       "      <td>Bone_Marrow</td>\n",
       "    </tr>\n",
       "    <tr>\n",
       "      <th>AAACCTGCAGATGGGT-1-Dahlin_1</th>\n",
       "      <td>Dahlin_1</td>\n",
       "      <td>v2_10X</td>\n",
       "      <td>UMI</td>\n",
       "      <td>Dahlin_1</td>\n",
       "      <td>Mouse</td>\n",
       "      <td>Dahlin_BM</td>\n",
       "      <td>Bone_Marrow</td>\n",
       "    </tr>\n",
       "    <tr>\n",
       "      <th>AAACCTGCATACAGCT-1-Dahlin_1</th>\n",
       "      <td>Dahlin_1</td>\n",
       "      <td>v2_10X</td>\n",
       "      <td>UMI</td>\n",
       "      <td>Dahlin_1</td>\n",
       "      <td>Mouse</td>\n",
       "      <td>Dahlin_BM</td>\n",
       "      <td>Bone_Marrow</td>\n",
       "    </tr>\n",
       "    <tr>\n",
       "      <th>AAACCTGCATCACGTA-1-Dahlin_1</th>\n",
       "      <td>Dahlin_1</td>\n",
       "      <td>v2_10X</td>\n",
       "      <td>UMI</td>\n",
       "      <td>Dahlin_1</td>\n",
       "      <td>Mouse</td>\n",
       "      <td>Dahlin_BM</td>\n",
       "      <td>Bone_Marrow</td>\n",
       "    </tr>\n",
       "  </tbody>\n",
       "</table>\n",
       "</div>"
      ],
      "text/plain": [
       "                                batch chemistry data_type sample_ID species  \\\n",
       "AAACCTGAGGCAGGTT-1-Dahlin_1  Dahlin_1    v2_10X       UMI  Dahlin_1   Mouse   \n",
       "AAACCTGCAAGCTGAG-1-Dahlin_1  Dahlin_1    v2_10X       UMI  Dahlin_1   Mouse   \n",
       "AAACCTGCAGATGGGT-1-Dahlin_1  Dahlin_1    v2_10X       UMI  Dahlin_1   Mouse   \n",
       "AAACCTGCATACAGCT-1-Dahlin_1  Dahlin_1    v2_10X       UMI  Dahlin_1   Mouse   \n",
       "AAACCTGCATCACGTA-1-Dahlin_1  Dahlin_1    v2_10X       UMI  Dahlin_1   Mouse   \n",
       "\n",
       "                                 study       tissue  \n",
       "AAACCTGAGGCAGGTT-1-Dahlin_1  Dahlin_BM  Bone_Marrow  \n",
       "AAACCTGCAAGCTGAG-1-Dahlin_1  Dahlin_BM  Bone_Marrow  \n",
       "AAACCTGCAGATGGGT-1-Dahlin_1  Dahlin_BM  Bone_Marrow  \n",
       "AAACCTGCATACAGCT-1-Dahlin_1  Dahlin_BM  Bone_Marrow  \n",
       "AAACCTGCATCACGTA-1-Dahlin_1  Dahlin_BM  Bone_Marrow  "
      ]
     },
     "execution_count": 8,
     "metadata": {},
     "output_type": "execute_result"
    }
   ],
   "source": [
    "adata_raw.obs.head()"
   ]
  },
  {
   "cell_type": "code",
   "execution_count": 9,
   "metadata": {},
   "outputs": [
    {
     "data": {
      "text/html": [
       "<div>\n",
       "<style scoped>\n",
       "    .dataframe tbody tr th:only-of-type {\n",
       "        vertical-align: middle;\n",
       "    }\n",
       "\n",
       "    .dataframe tbody tr th {\n",
       "        vertical-align: top;\n",
       "    }\n",
       "\n",
       "    .dataframe thead th {\n",
       "        text-align: right;\n",
       "    }\n",
       "</style>\n",
       "<table border=\"1\" class=\"dataframe\">\n",
       "  <thead>\n",
       "    <tr style=\"text-align: right;\">\n",
       "      <th></th>\n",
       "      <th>batch</th>\n",
       "      <th>chemistry</th>\n",
       "      <th>data_type</th>\n",
       "      <th>species</th>\n",
       "      <th>study</th>\n",
       "      <th>tissue</th>\n",
       "    </tr>\n",
       "    <tr>\n",
       "      <th>barcode</th>\n",
       "      <th></th>\n",
       "      <th></th>\n",
       "      <th></th>\n",
       "      <th></th>\n",
       "      <th></th>\n",
       "      <th></th>\n",
       "    </tr>\n",
       "  </thead>\n",
       "  <tbody>\n",
       "    <tr>\n",
       "      <th>AAACCTGAGGCAGGTT-1-Dahlin_1</th>\n",
       "      <td>Dahlin_1</td>\n",
       "      <td>v2_10X</td>\n",
       "      <td>UMI</td>\n",
       "      <td>Mouse</td>\n",
       "      <td>Dahlin_BM</td>\n",
       "      <td>Bone_Marrow</td>\n",
       "    </tr>\n",
       "    <tr>\n",
       "      <th>AAACCTGCAAGCTGAG-1-Dahlin_1</th>\n",
       "      <td>Dahlin_1</td>\n",
       "      <td>v2_10X</td>\n",
       "      <td>UMI</td>\n",
       "      <td>Mouse</td>\n",
       "      <td>Dahlin_BM</td>\n",
       "      <td>Bone_Marrow</td>\n",
       "    </tr>\n",
       "    <tr>\n",
       "      <th>AAACCTGCAGATGGGT-1-Dahlin_1</th>\n",
       "      <td>Dahlin_1</td>\n",
       "      <td>v2_10X</td>\n",
       "      <td>UMI</td>\n",
       "      <td>Mouse</td>\n",
       "      <td>Dahlin_BM</td>\n",
       "      <td>Bone_Marrow</td>\n",
       "    </tr>\n",
       "    <tr>\n",
       "      <th>AAACCTGCATACAGCT-1-Dahlin_1</th>\n",
       "      <td>Dahlin_1</td>\n",
       "      <td>v2_10X</td>\n",
       "      <td>UMI</td>\n",
       "      <td>Mouse</td>\n",
       "      <td>Dahlin_BM</td>\n",
       "      <td>Bone_Marrow</td>\n",
       "    </tr>\n",
       "    <tr>\n",
       "      <th>AAACCTGCATCACGTA-1-Dahlin_1</th>\n",
       "      <td>Dahlin_1</td>\n",
       "      <td>v2_10X</td>\n",
       "      <td>UMI</td>\n",
       "      <td>Mouse</td>\n",
       "      <td>Dahlin_BM</td>\n",
       "      <td>Bone_Marrow</td>\n",
       "    </tr>\n",
       "  </tbody>\n",
       "</table>\n",
       "</div>"
      ],
      "text/plain": [
       "                                batch chemistry data_type species      study  \\\n",
       "barcode                                                                        \n",
       "AAACCTGAGGCAGGTT-1-Dahlin_1  Dahlin_1    v2_10X       UMI   Mouse  Dahlin_BM   \n",
       "AAACCTGCAAGCTGAG-1-Dahlin_1  Dahlin_1    v2_10X       UMI   Mouse  Dahlin_BM   \n",
       "AAACCTGCAGATGGGT-1-Dahlin_1  Dahlin_1    v2_10X       UMI   Mouse  Dahlin_BM   \n",
       "AAACCTGCATACAGCT-1-Dahlin_1  Dahlin_1    v2_10X       UMI   Mouse  Dahlin_BM   \n",
       "AAACCTGCATCACGTA-1-Dahlin_1  Dahlin_1    v2_10X       UMI   Mouse  Dahlin_BM   \n",
       "\n",
       "                                  tissue  \n",
       "barcode                                   \n",
       "AAACCTGAGGCAGGTT-1-Dahlin_1  Bone_Marrow  \n",
       "AAACCTGCAAGCTGAG-1-Dahlin_1  Bone_Marrow  \n",
       "AAACCTGCAGATGGGT-1-Dahlin_1  Bone_Marrow  \n",
       "AAACCTGCATACAGCT-1-Dahlin_1  Bone_Marrow  \n",
       "AAACCTGCATCACGTA-1-Dahlin_1  Bone_Marrow  "
      ]
     },
     "execution_count": 9,
     "metadata": {},
     "output_type": "execute_result"
    }
   ],
   "source": [
    "adata_raw.obs.drop(columns=['sample_ID'], inplace=True)\n",
    "adata_raw.obs.index.rename('barcode', inplace=True)\n",
    "adata_raw.obs.head()"
   ]
  },
  {
   "cell_type": "code",
   "execution_count": 10,
   "metadata": {},
   "outputs": [
    {
     "data": {
      "text/plain": [
       "(30494, 27998)"
      ]
     },
     "execution_count": 10,
     "metadata": {},
     "output_type": "execute_result"
    }
   ],
   "source": [
    "adata_raw.shape"
   ]
  },
  {
   "cell_type": "markdown",
   "metadata": {},
   "source": [
    "### Pre-processed data"
   ]
  },
  {
   "cell_type": "code",
   "execution_count": 11,
   "metadata": {},
   "outputs": [
    {
     "name": "stdout",
     "output_type": "stream",
     "text": [
      "../../Bone_Marrow_mouse/Dahlin_mouse_BM/write/BM_Dahlin_3.h5ad\n",
      "../../Bone_Marrow_mouse/Dahlin_mouse_BM/write/BM_Dahlin_2.h5ad\n",
      "../../Bone_Marrow_mouse/Dahlin_mouse_BM/write/BM_Dahlin_4.h5ad\n",
      "../../Bone_Marrow_mouse/Dahlin_mouse_BM/write/BM_Dahlin_1.h5ad\n"
     ]
    }
   ],
   "source": [
    "file_paths = '../../Bone_Marrow_mouse/Dahlin_mouse_BM/write/'\n",
    "adatas_pp = []\n",
    "for i in glob.glob(file_paths+'*.h5ad'):\n",
    "    print(i)\n",
    "    adatas_pp.append(sc.read(i, cache=True)) "
   ]
  },
  {
   "cell_type": "code",
   "execution_count": 12,
   "metadata": {},
   "outputs": [],
   "source": [
    "samples = ['Dahlin_3', 'Dahlin_2', 'Dahlin_4', 'Dahlin_1']\n",
    "for i in range(len(adatas_pp)):\n",
    "    adata_tmp = adatas_pp[i]\n",
    "    adata_obs = adata_tmp.obs.reset_index()\n",
    "    adata_obs = adata_obs[['index', 'final_annotation', 'dpt_pseudotime_y', 'n_counts', 'n_genes', 'mt_frac']].rename(columns = {'index':'barcode'})\n",
    "    adata_obs.set_index('barcode', inplace = True)\n",
    "    adatas_pp[i].obs = adata_obs\n",
    "    "
   ]
  },
  {
   "cell_type": "code",
   "execution_count": 13,
   "metadata": {},
   "outputs": [],
   "source": [
    "# Concatenate to unique adata object\n",
    "adata_pp = adatas_pp[0].concatenate(adatas_pp[1:], batch_key='sample_ID', batch_categories=samples)"
   ]
  },
  {
   "cell_type": "code",
   "execution_count": 14,
   "metadata": {},
   "outputs": [
    {
     "data": {
      "text/html": [
       "<div>\n",
       "<style scoped>\n",
       "    .dataframe tbody tr th:only-of-type {\n",
       "        vertical-align: middle;\n",
       "    }\n",
       "\n",
       "    .dataframe tbody tr th {\n",
       "        vertical-align: top;\n",
       "    }\n",
       "\n",
       "    .dataframe thead th {\n",
       "        text-align: right;\n",
       "    }\n",
       "</style>\n",
       "<table border=\"1\" class=\"dataframe\">\n",
       "  <thead>\n",
       "    <tr style=\"text-align: right;\">\n",
       "      <th></th>\n",
       "      <th>dpt_pseudotime_y</th>\n",
       "      <th>final_annotation</th>\n",
       "      <th>mt_frac</th>\n",
       "      <th>n_counts</th>\n",
       "      <th>n_genes</th>\n",
       "    </tr>\n",
       "    <tr>\n",
       "      <th>barcode</th>\n",
       "      <th></th>\n",
       "      <th></th>\n",
       "      <th></th>\n",
       "      <th></th>\n",
       "      <th></th>\n",
       "    </tr>\n",
       "  </thead>\n",
       "  <tbody>\n",
       "    <tr>\n",
       "      <th>AAACCTGAGTTAACGA-1-Dahlin_3</th>\n",
       "      <td>0.326648</td>\n",
       "      <td>Megakaryocyte progenitors</td>\n",
       "      <td>0.028705</td>\n",
       "      <td>9197.0</td>\n",
       "      <td>3073</td>\n",
       "    </tr>\n",
       "    <tr>\n",
       "      <th>AAACCTGCAACGCACC-1-Dahlin_3</th>\n",
       "      <td>NaN</td>\n",
       "      <td>Lymphocyte progenitors</td>\n",
       "      <td>0.036939</td>\n",
       "      <td>3384.0</td>\n",
       "      <td>1717</td>\n",
       "    </tr>\n",
       "    <tr>\n",
       "      <th>AAACCTGCAATTCCTT-1-Dahlin_3</th>\n",
       "      <td>NaN</td>\n",
       "      <td>Lymphocyte progenitors</td>\n",
       "      <td>0.026477</td>\n",
       "      <td>6836.0</td>\n",
       "      <td>2641</td>\n",
       "    </tr>\n",
       "    <tr>\n",
       "      <th>AAACCTGCACCTTGTC-1-Dahlin_3</th>\n",
       "      <td>0.620808</td>\n",
       "      <td>Erythroid progenitors</td>\n",
       "      <td>0.026874</td>\n",
       "      <td>24485.0</td>\n",
       "      <td>5016</td>\n",
       "    </tr>\n",
       "    <tr>\n",
       "      <th>AAACCTGCATCCAACA-1-Dahlin_3</th>\n",
       "      <td>0.389720</td>\n",
       "      <td>Erythroid progenitors</td>\n",
       "      <td>0.030575</td>\n",
       "      <td>4677.0</td>\n",
       "      <td>1846</td>\n",
       "    </tr>\n",
       "  </tbody>\n",
       "</table>\n",
       "</div>"
      ],
      "text/plain": [
       "                             dpt_pseudotime_y           final_annotation  \\\n",
       "barcode                                                                    \n",
       "AAACCTGAGTTAACGA-1-Dahlin_3          0.326648  Megakaryocyte progenitors   \n",
       "AAACCTGCAACGCACC-1-Dahlin_3               NaN     Lymphocyte progenitors   \n",
       "AAACCTGCAATTCCTT-1-Dahlin_3               NaN     Lymphocyte progenitors   \n",
       "AAACCTGCACCTTGTC-1-Dahlin_3          0.620808      Erythroid progenitors   \n",
       "AAACCTGCATCCAACA-1-Dahlin_3          0.389720      Erythroid progenitors   \n",
       "\n",
       "                              mt_frac  n_counts  n_genes  \n",
       "barcode                                                   \n",
       "AAACCTGAGTTAACGA-1-Dahlin_3  0.028705    9197.0     3073  \n",
       "AAACCTGCAACGCACC-1-Dahlin_3  0.036939    3384.0     1717  \n",
       "AAACCTGCAATTCCTT-1-Dahlin_3  0.026477    6836.0     2641  \n",
       "AAACCTGCACCTTGTC-1-Dahlin_3  0.026874   24485.0     5016  \n",
       "AAACCTGCATCCAACA-1-Dahlin_3  0.030575    4677.0     1846  "
      ]
     },
     "execution_count": 14,
     "metadata": {},
     "output_type": "execute_result"
    }
   ],
   "source": [
    "adata_pp.obs.drop(columns=['sample_ID'], inplace = True)\n",
    "adata_pp.obs.index.rename('barcode', inplace=True)\n",
    "adata_pp.obs.head()"
   ]
  },
  {
   "cell_type": "code",
   "execution_count": 15,
   "metadata": {},
   "outputs": [
    {
     "data": {
      "text/plain": [
       "(30494, 27998)"
      ]
     },
     "execution_count": 15,
     "metadata": {},
     "output_type": "execute_result"
    }
   ],
   "source": [
    "adata_raw.shape"
   ]
  },
  {
   "cell_type": "code",
   "execution_count": 16,
   "metadata": {},
   "outputs": [
    {
     "data": {
      "text/plain": [
       "(30405, 12155)"
      ]
     },
     "execution_count": 16,
     "metadata": {},
     "output_type": "execute_result"
    }
   ],
   "source": [
    "adata_pp.shape"
   ]
  },
  {
   "cell_type": "code",
   "execution_count": 17,
   "metadata": {},
   "outputs": [
    {
     "data": {
      "text/html": [
       "<div>\n",
       "<style scoped>\n",
       "    .dataframe tbody tr th:only-of-type {\n",
       "        vertical-align: middle;\n",
       "    }\n",
       "\n",
       "    .dataframe tbody tr th {\n",
       "        vertical-align: top;\n",
       "    }\n",
       "\n",
       "    .dataframe thead th {\n",
       "        text-align: right;\n",
       "    }\n",
       "</style>\n",
       "<table border=\"1\" class=\"dataframe\">\n",
       "  <thead>\n",
       "    <tr style=\"text-align: right;\">\n",
       "      <th></th>\n",
       "      <th>batch</th>\n",
       "      <th>chemistry</th>\n",
       "      <th>data_type</th>\n",
       "      <th>species</th>\n",
       "      <th>study</th>\n",
       "      <th>tissue</th>\n",
       "      <th>dpt_pseudotime_y</th>\n",
       "      <th>final_annotation</th>\n",
       "      <th>mt_frac</th>\n",
       "      <th>n_counts</th>\n",
       "      <th>n_genes</th>\n",
       "    </tr>\n",
       "    <tr>\n",
       "      <th>barcode</th>\n",
       "      <th></th>\n",
       "      <th></th>\n",
       "      <th></th>\n",
       "      <th></th>\n",
       "      <th></th>\n",
       "      <th></th>\n",
       "      <th></th>\n",
       "      <th></th>\n",
       "      <th></th>\n",
       "      <th></th>\n",
       "      <th></th>\n",
       "    </tr>\n",
       "  </thead>\n",
       "  <tbody>\n",
       "    <tr>\n",
       "      <th>AAACCTGAGGCAGGTT-1-Dahlin_1</th>\n",
       "      <td>Dahlin_1</td>\n",
       "      <td>v2_10X</td>\n",
       "      <td>UMI</td>\n",
       "      <td>Mouse</td>\n",
       "      <td>Dahlin_BM</td>\n",
       "      <td>Bone_Marrow</td>\n",
       "      <td>0.865444</td>\n",
       "      <td>Erythrocytes</td>\n",
       "      <td>0.027973</td>\n",
       "      <td>30744.0</td>\n",
       "      <td>4452.0</td>\n",
       "    </tr>\n",
       "    <tr>\n",
       "      <th>AAACCTGCAAGCTGAG-1-Dahlin_1</th>\n",
       "      <td>Dahlin_1</td>\n",
       "      <td>v2_10X</td>\n",
       "      <td>UMI</td>\n",
       "      <td>Mouse</td>\n",
       "      <td>Dahlin_BM</td>\n",
       "      <td>Bone_Marrow</td>\n",
       "      <td>NaN</td>\n",
       "      <td>Neutrophils</td>\n",
       "      <td>0.022213</td>\n",
       "      <td>16657.0</td>\n",
       "      <td>3369.0</td>\n",
       "    </tr>\n",
       "    <tr>\n",
       "      <th>AAACCTGCAGATGGGT-1-Dahlin_1</th>\n",
       "      <td>Dahlin_1</td>\n",
       "      <td>v2_10X</td>\n",
       "      <td>UMI</td>\n",
       "      <td>Mouse</td>\n",
       "      <td>Dahlin_BM</td>\n",
       "      <td>Bone_Marrow</td>\n",
       "      <td>NaN</td>\n",
       "      <td>Lymphocyte progenitors</td>\n",
       "      <td>0.015106</td>\n",
       "      <td>16484.0</td>\n",
       "      <td>3372.0</td>\n",
       "    </tr>\n",
       "    <tr>\n",
       "      <th>AAACCTGCATACAGCT-1-Dahlin_1</th>\n",
       "      <td>Dahlin_1</td>\n",
       "      <td>v2_10X</td>\n",
       "      <td>UMI</td>\n",
       "      <td>Mouse</td>\n",
       "      <td>Dahlin_BM</td>\n",
       "      <td>Bone_Marrow</td>\n",
       "      <td>0.750666</td>\n",
       "      <td>Erythrocytes</td>\n",
       "      <td>0.024411</td>\n",
       "      <td>34820.0</td>\n",
       "      <td>4648.0</td>\n",
       "    </tr>\n",
       "    <tr>\n",
       "      <th>AAACCTGCATCACGTA-1-Dahlin_1</th>\n",
       "      <td>Dahlin_1</td>\n",
       "      <td>v2_10X</td>\n",
       "      <td>UMI</td>\n",
       "      <td>Mouse</td>\n",
       "      <td>Dahlin_BM</td>\n",
       "      <td>Bone_Marrow</td>\n",
       "      <td>0.887669</td>\n",
       "      <td>Erythrocytes</td>\n",
       "      <td>0.020295</td>\n",
       "      <td>26213.0</td>\n",
       "      <td>4258.0</td>\n",
       "    </tr>\n",
       "  </tbody>\n",
       "</table>\n",
       "</div>"
      ],
      "text/plain": [
       "                                batch chemistry data_type species      study  \\\n",
       "barcode                                                                        \n",
       "AAACCTGAGGCAGGTT-1-Dahlin_1  Dahlin_1    v2_10X       UMI   Mouse  Dahlin_BM   \n",
       "AAACCTGCAAGCTGAG-1-Dahlin_1  Dahlin_1    v2_10X       UMI   Mouse  Dahlin_BM   \n",
       "AAACCTGCAGATGGGT-1-Dahlin_1  Dahlin_1    v2_10X       UMI   Mouse  Dahlin_BM   \n",
       "AAACCTGCATACAGCT-1-Dahlin_1  Dahlin_1    v2_10X       UMI   Mouse  Dahlin_BM   \n",
       "AAACCTGCATCACGTA-1-Dahlin_1  Dahlin_1    v2_10X       UMI   Mouse  Dahlin_BM   \n",
       "\n",
       "                                  tissue  dpt_pseudotime_y  \\\n",
       "barcode                                                      \n",
       "AAACCTGAGGCAGGTT-1-Dahlin_1  Bone_Marrow          0.865444   \n",
       "AAACCTGCAAGCTGAG-1-Dahlin_1  Bone_Marrow               NaN   \n",
       "AAACCTGCAGATGGGT-1-Dahlin_1  Bone_Marrow               NaN   \n",
       "AAACCTGCATACAGCT-1-Dahlin_1  Bone_Marrow          0.750666   \n",
       "AAACCTGCATCACGTA-1-Dahlin_1  Bone_Marrow          0.887669   \n",
       "\n",
       "                                   final_annotation   mt_frac  n_counts  \\\n",
       "barcode                                                                   \n",
       "AAACCTGAGGCAGGTT-1-Dahlin_1            Erythrocytes  0.027973   30744.0   \n",
       "AAACCTGCAAGCTGAG-1-Dahlin_1             Neutrophils  0.022213   16657.0   \n",
       "AAACCTGCAGATGGGT-1-Dahlin_1  Lymphocyte progenitors  0.015106   16484.0   \n",
       "AAACCTGCATACAGCT-1-Dahlin_1            Erythrocytes  0.024411   34820.0   \n",
       "AAACCTGCATCACGTA-1-Dahlin_1            Erythrocytes  0.020295   26213.0   \n",
       "\n",
       "                             n_genes  \n",
       "barcode                               \n",
       "AAACCTGAGGCAGGTT-1-Dahlin_1   4452.0  \n",
       "AAACCTGCAAGCTGAG-1-Dahlin_1   3369.0  \n",
       "AAACCTGCAGATGGGT-1-Dahlin_1   3372.0  \n",
       "AAACCTGCATACAGCT-1-Dahlin_1   4648.0  \n",
       "AAACCTGCATCACGTA-1-Dahlin_1   4258.0  "
      ]
     },
     "execution_count": 17,
     "metadata": {},
     "output_type": "execute_result"
    }
   ],
   "source": [
    "# Restrict to cells that passed QC and were annotated\n",
    "adata_obs_raw = adata_raw.obs.reset_index()\n",
    "adata_obs_pp = adata_pp.obs.reset_index()\n",
    "adata_merged = adata_obs_raw.merge(adata_obs_pp, on='barcode', how='left')\n",
    "adata_merged.set_index('barcode', inplace = True)\n",
    "adata_raw.obs = adata_merged\n",
    "adata_raw.obs.head()"
   ]
  },
  {
   "cell_type": "code",
   "execution_count": 18,
   "metadata": {},
   "outputs": [
    {
     "data": {
      "text/plain": [
       "(30405, 27998)"
      ]
     },
     "execution_count": 18,
     "metadata": {},
     "output_type": "execute_result"
    }
   ],
   "source": [
    "adata_raw = adata_raw[~pd.isnull(adata_raw.obs['final_annotation'])]\n",
    "adata_raw.shape"
   ]
  },
  {
   "cell_type": "markdown",
   "metadata": {},
   "source": [
    "### Normalization"
   ]
  },
  {
   "cell_type": "code",
   "execution_count": 19,
   "metadata": {},
   "outputs": [
    {
     "name": "stdout",
     "output_type": "stream",
     "text": [
      "Total number of genes: 27998\n",
      "filtered out 9144 genes that are detectedin less than 1 cells\n"
     ]
    },
    {
     "name": "stderr",
     "output_type": "stream",
     "text": [
      "Trying to set attribute `.var` of view, making a copy.\n"
     ]
    },
    {
     "name": "stdout",
     "output_type": "stream",
     "text": [
      "Number of genes after cell filter: 18854\n"
     ]
    }
   ],
   "source": [
    "# Exclude genes that are = 0 in all cells\n",
    "#Filter genes:\n",
    "print('Total number of genes: {:d}'.format(adata_raw.n_vars))\n",
    "\n",
    "# Min 20 cells - filters out 0 count genes\n",
    "sc.pp.filter_genes(adata_raw, min_cells=1)\n",
    "print('Number of genes after cell filter: {:d}'.format(adata_raw.n_vars))"
   ]
  },
  {
   "cell_type": "code",
   "execution_count": 20,
   "metadata": {},
   "outputs": [
    {
     "name": "stdout",
     "output_type": "stream",
     "text": [
      "normalizing by total count per cell\n",
      "    finished (0:00:04): normalized adata.X and added    'n_counts', counts per cell before normalization (adata.obs)\n",
      "computing PCA with n_comps = 15\n",
      "    finished (0:00:12)\n",
      "computing neighbors\n",
      "    using 'X_pca' with n_pcs = 15\n",
      "    finished: added to `.uns['neighbors']`\n",
      "    'distances', distances for each pair of neighbors\n",
      "    'connectivities', weighted adjacency matrix (0:00:09)\n",
      "running Louvain clustering\n",
      "    using the \"louvain\" package of Traag (2017)\n",
      "    finished: found 12 clusters and added\n",
      "    'groups', the cluster labels (adata.obs, categorical) (0:00:05)\n"
     ]
    }
   ],
   "source": [
    "#Perform a clustering for scran normalization in clusters\n",
    "adata_pp = adata_raw.copy()\n",
    "sc.pp.normalize_per_cell(adata_pp, counts_per_cell_after=1e6)\n",
    "sc.pp.log1p(adata_pp)\n",
    "sc.pp.pca(adata_pp, n_comps=15, svd_solver='arpack')\n",
    "sc.pp.neighbors(adata_pp)\n",
    "sc.tl.louvain(adata_pp, key_added='groups', resolution=0.5)"
   ]
  },
  {
   "cell_type": "code",
   "execution_count": 21,
   "metadata": {},
   "outputs": [
    {
     "data": {
      "text/plain": [
       "0     4799\n",
       "1     4216\n",
       "2     3457\n",
       "3     3126\n",
       "4     2447\n",
       "5     2142\n",
       "6     2066\n",
       "7     2013\n",
       "8     1803\n",
       "9     1753\n",
       "10    1382\n",
       "11    1201\n",
       "Name: groups, dtype: int64"
      ]
     },
     "execution_count": 21,
     "metadata": {},
     "output_type": "execute_result"
    }
   ],
   "source": [
    "# Check if the minimum number of cells per cluster is < 21:in that case, sizes will be also passed as input to the normalization\n",
    "adata_pp.obs['groups'].value_counts()"
   ]
  },
  {
   "cell_type": "code",
   "execution_count": 22,
   "metadata": {},
   "outputs": [],
   "source": [
    "#Preprocess variables for scran normalization\n",
    "input_groups = adata_pp.obs['groups']\n",
    "data_mat = adata_raw.X.T"
   ]
  },
  {
   "cell_type": "code",
   "execution_count": 23,
   "metadata": {},
   "outputs": [],
   "source": [
    "%%R -i data_mat -i input_groups -o size_factors\n",
    "\n",
    "size_factors = computeSumFactors(data_mat, clusters=input_groups, min.mean=0.1)"
   ]
  },
  {
   "cell_type": "code",
   "execution_count": 24,
   "metadata": {},
   "outputs": [],
   "source": [
    "#Delete adata_pp\n",
    "del adata_pp"
   ]
  },
  {
   "cell_type": "code",
   "execution_count": 25,
   "metadata": {},
   "outputs": [
    {
     "name": "stderr",
     "output_type": "stream",
     "text": [
      "... storing 'batch' as categorical\n",
      "... storing 'chemistry' as categorical\n",
      "... storing 'data_type' as categorical\n",
      "... storing 'species' as categorical\n",
      "... storing 'study' as categorical\n",
      "... storing 'tissue' as categorical\n",
      "... storing 'final_annotation' as categorical\n"
     ]
    },
    {
     "data": {
      "image/png": "[encoded data removed]",
      "text/plain": [
       "<Figure size 671.674x576 with 1 Axes>"
      ]
     },
     "metadata": {
      "needs_background": "light"
     },
     "output_type": "display_data"
    },
    {
     "data": {
      "image/png": "[encoded data removed]",
      "text/plain": [
       "<Figure size 671.674x576 with 1 Axes>"
      ]
     },
     "metadata": {
      "needs_background": "light"
     },
     "output_type": "display_data"
    },
    {
     "data": {
      "image/png": "[encoded data removed]",
      "text/plain": [
       "<Figure size 576x576 with 1 Axes>"
      ]
     },
     "metadata": {
      "needs_background": "light"
     },
     "output_type": "display_data"
    }
   ],
   "source": [
    "# Visualize the estimated size factors\n",
    "adata_raw.obs['size_factors'] = size_factors\n",
    "\n",
    "sc.pl.scatter(adata_raw, 'size_factors', 'n_counts')\n",
    "sc.pl.scatter(adata_raw, 'size_factors', 'n_genes')\n",
    "\n",
    "sb.distplot(size_factors, bins=50, kde=False)\n",
    "plt.show()"
   ]
  },
  {
   "cell_type": "code",
   "execution_count": 26,
   "metadata": {},
   "outputs": [],
   "source": [
    "#Keep the count data in a counts layer\n",
    "adata_raw.layers[\"counts\"] = adata_raw.X.copy()"
   ]
  },
  {
   "cell_type": "code",
   "execution_count": 27,
   "metadata": {},
   "outputs": [],
   "source": [
    "#Normalize adata \n",
    "adata_raw.X /= adata_raw.obs['size_factors'].values[:,None]\n",
    "sc.pp.log1p(adata_raw)"
   ]
  },
  {
   "cell_type": "code",
   "execution_count": 28,
   "metadata": {},
   "outputs": [],
   "source": [
    "adata_raw.write(results_file)"
   ]
  }
 ],
 "metadata": {
  "kernelspec": {
   "display_name": "Python 3",
   "language": "python",
   "name": "python3"
  },
  "language_info": {
   "codemirror_mode": {
    "name": "ipython",
    "version": 3
   },
   "file_extension": ".py",
   "mimetype": "text/x-python",
   "name": "python",
   "nbconvert_exporter": "python",
   "pygments_lexer": "ipython3",
   "version": "3.7.3"
  }
 },
 "nbformat": 4,
 "nbformat_minor": 2
}
