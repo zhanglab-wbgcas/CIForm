{
 "cells": [
  {
   "cell_type": "markdown",
   "metadata": {},
   "source": [
    "# Human PBMCs - merging annotated samples from Sun et al."
   ]
  },
  {
   "cell_type": "code",
   "execution_count": 2,
   "metadata": {},
   "outputs": [],
   "source": [
    "import scanpy as sc\n",
    "import numpy as np\n",
    "import scipy as sp\n",
    "import pandas as pd\n",
    "import matplotlib.pyplot as plt\n",
    "from matplotlib import rcParams\n",
    "from matplotlib import colors\n",
    "import seaborn as sb\n",
    "import glob\n",
    "\n",
    "import rpy2.rinterface_lib.callbacks\n",
    "import logging\n",
    "\n",
    "from rpy2.robjects import pandas2ri\n",
    "import anndata2ri"
   ]
  },
  {
   "cell_type": "code",
   "execution_count": 3,
   "metadata": {},
   "outputs": [
    {
     "name": "stdout",
     "output_type": "stream",
     "text": [
      "-----\n",
      "anndata     0.8.0\n",
      "scanpy      1.9.1\n",
      "-----\n",
      "PIL                         9.2.0\n",
      "anndata2ri                  1.1\n",
      "asttokens                   NA\n",
      "backcall                    0.2.0\n",
      "beta_ufunc                  NA\n",
      "binom_ufunc                 NA\n",
      "cffi                        1.15.0\n",
      "cycler                      0.10.0\n",
      "cython_runtime              NA\n",
      "dateutil                    2.8.2\n",
      "debugpy                     1.6.3\n",
      "decorator                   5.1.1\n",
      "defusedxml                  0.7.1\n",
      "entrypoints                 0.4\n",
      "executing                   0.10.0\n",
      "google                      NA\n",
      "h5py                        3.7.0\n",
      "hypergeom_ufunc             NA\n",
      "igraph                      0.10.1\n",
      "ipykernel                   6.15.1\n",
      "ipython_genutils            0.2.0\n",
      "ipywidgets                  8.0.1\n",
      "jedi                        0.18.1\n",
      "jinja2                      3.1.2\n",
      "joblib                      1.1.0\n",
      "kiwisolver                  1.4.4\n",
      "llvmlite                    0.39.0\n",
      "louvain                     0.8.0\n",
      "markupsafe                  2.1.1\n",
      "matplotlib                  3.5.3\n",
      "mpl_toolkits                NA\n",
      "natsort                     8.1.0\n",
      "nbinom_ufunc                NA\n",
      "ncf_ufunc                   NA\n",
      "numba                       0.56.0\n",
      "numpy                       1.22.4\n",
      "packaging                   21.3\n",
      "pandas                      1.4.3\n",
      "parso                       0.8.3\n",
      "pexpect                     4.8.0\n",
      "pickleshare                 0.7.5\n",
      "pkg_resources               NA\n",
      "prompt_toolkit              3.0.30\n",
      "psutil                      5.9.1\n",
      "ptyprocess                  0.7.0\n",
      "pure_eval                   0.2.2\n",
      "pydev_ipython               NA\n",
      "pydevconsole                NA\n",
      "pydevd                      2.8.0\n",
      "pydevd_file_utils           NA\n",
      "pydevd_plugins              NA\n",
      "pydevd_tracing              NA\n",
      "pyexpat                     NA\n",
      "pygments                    2.13.0\n",
      "pyparsing                   3.0.9\n",
      "pytz                        2022.2.1\n",
      "pytz_deprecation_shim       NA\n",
      "rpy2                        3.5.4\n",
      "scipy                       1.9.1\n",
      "seaborn                     0.11.2\n",
      "session_info                1.0.0\n",
      "setuptools_scm              NA\n",
      "six                         1.16.0\n",
      "sklearn                     1.1.2\n",
      "stack_data                  0.4.0\n",
      "statsmodels                 0.13.2\n",
      "texttable                   1.6.4\n",
      "threadpoolctl               3.1.0\n",
      "tornado                     6.2\n",
      "traitlets                   5.3.0\n",
      "typing_extensions           NA\n",
      "tzlocal                     NA\n",
      "wcwidth                     0.2.5\n",
      "zmq                         23.2.1\n",
      "-----\n",
      "IPython             8.4.0\n",
      "jupyter_client      7.3.5\n",
      "jupyter_core        4.11.1\n",
      "notebook            6.4.12\n",
      "-----\n",
      "Python 3.9.7 (default, Sep 16 2021, 13:09:58) [GCC 7.5.0]\n",
      "Linux-3.10.0-1160.59.1.el7.x86_64-x86_64-with-glibc2.17\n",
      "-----\n",
      "Session information updated at 2022-11-24 10:48\n"
     ]
    }
   ],
   "source": [
    "# Ignore R warning messages\n",
    "#Note: this can be commented out to get more verbose R output\n",
    "rpy2.rinterface_lib.callbacks.logger.setLevel(logging.ERROR)\n",
    "\n",
    "# Automatically convert rpy2 outputs to pandas dataframes\n",
    "pandas2ri.activate()\n",
    "anndata2ri.activate()\n",
    "%load_ext rpy2.ipython\n",
    "\n",
    "plt.rcParams['figure.figsize']=(8,8) #rescale figures\n",
    "sc.settings.verbosity = 3\n",
    "#sc.set_figure_params(dpi=200, dpi_save=300)\n",
    "sc.logging.print_versions()\n",
    "\n",
    "results_file = './write/Sun_hum_PBMCs_pp.h5ad'"
   ]
  },
  {
   "cell_type": "code",
   "execution_count": 4,
   "metadata": {},
   "outputs": [],
   "source": [
    "%%R\n",
    "# Load all the R libraries we will be using in the notebook\n",
    "library(scran)"
   ]
  },
  {
   "cell_type": "markdown",
   "metadata": {},
   "source": [
    "## Load \n",
    "Here we load the pre-processed datasets (which has been annotated), and the raw matrices (which won't be filtered on the gene level). "
   ]
  },
  {
   "cell_type": "markdown",
   "metadata": {},
   "source": [
    "### Raw data"
   ]
  },
  {
   "cell_type": "code",
   "execution_count": 26,
   "metadata": {},
   "outputs": [],
   "source": [
    "# Set up data loading\n",
    "file_base = '../Munich/datasets/human/Sun_PBMC/'\n",
    "folders = ['sample1_CS', 'sample2_KC', 'sample3_TB', 'sample4_TC']\n",
    "geo_id = ['/GSM3665016_CS_PBL_', '/GSM3665017_KC_PBL_', '/GSM3665018_TB_PBL_', '/GSM3665019_TC_PBL_']\n",
    "mat = 'matrix.mtx.gz'\n",
    "barcode = 'barcodes.tsv.gz'\n",
    "gene = 'genes.tsv.gz'"
   ]
  },
  {
   "cell_type": "code",
   "execution_count": 35,
   "metadata": {},
   "outputs": [
    {
     "name": "stdout",
     "output_type": "stream",
     "text": [
      "... reading from cache file cache/..-Munich-datasets-human-Sun_PBMC-sample1_CS-GSM3665016_CS_PBL_matrix.h5ad\n",
      "filtered out 22 cells that have less than 400 genes expressed\n",
      "Number of cells after gene filter: 1746\n",
      "filtered out 3 cells that have more than 3500 genes expressed\n",
      "Number of cells after gene filter: 1743\n"
     ]
    },
    {
     "ename": "KeyError",
     "evalue": "'mt_frac'",
     "output_type": "error",
     "traceback": [
      "\u001b[0;31m---------------------------------------------------------------------------\u001b[0m",
      "\u001b[0;31mKeyError\u001b[0m                                  Traceback (most recent call last)",
      "File \u001b[0;32m~/miniconda3/lib/python3.9/site-packages/pandas/core/indexes/base.py:3621\u001b[0m, in \u001b[0;36mIndex.get_loc\u001b[0;34m(self, key, method, tolerance)\u001b[0m\n\u001b[1;32m   3620\u001b[0m \u001b[38;5;28;01mtry\u001b[39;00m:\n\u001b[0;32m-> 3621\u001b[0m     \u001b[38;5;28;01mreturn\u001b[39;00m \u001b[38;5;28;43mself\u001b[39;49m\u001b[38;5;241;43m.\u001b[39;49m\u001b[43m_engine\u001b[49m\u001b[38;5;241;43m.\u001b[39;49m\u001b[43mget_loc\u001b[49m\u001b[43m(\u001b[49m\u001b[43mcasted_key\u001b[49m\u001b[43m)\u001b[49m\n\u001b[1;32m   3622\u001b[0m \u001b[38;5;28;01mexcept\u001b[39;00m \u001b[38;5;167;01mKeyError\u001b[39;00m \u001b[38;5;28;01mas\u001b[39;00m err:\n",
      "File \u001b[0;32m~/miniconda3/lib/python3.9/site-packages/pandas/_libs/index.pyx:136\u001b[0m, in \u001b[0;36mpandas._libs.index.IndexEngine.get_loc\u001b[0;34m()\u001b[0m\n",
      "File \u001b[0;32m~/miniconda3/lib/python3.9/site-packages/pandas/_libs/index.pyx:163\u001b[0m, in \u001b[0;36mpandas._libs.index.IndexEngine.get_loc\u001b[0;34m()\u001b[0m\n",
      "File \u001b[0;32mpandas/_libs/hashtable_class_helper.pxi:5198\u001b[0m, in \u001b[0;36mpandas._libs.hashtable.PyObjectHashTable.get_item\u001b[0;34m()\u001b[0m\n",
      "File \u001b[0;32mpandas/_libs/hashtable_class_helper.pxi:5206\u001b[0m, in \u001b[0;36mpandas._libs.hashtable.PyObjectHashTable.get_item\u001b[0;34m()\u001b[0m\n",
      "\u001b[0;31mKeyError\u001b[0m: 'mt_frac'",
      "\nThe above exception was the direct cause of the following exception:\n",
      "\u001b[0;31mKeyError\u001b[0m                                  Traceback (most recent call last)",
      "Input \u001b[0;32mIn [35]\u001b[0m, in \u001b[0;36m<cell line: 3>\u001b[0;34m()\u001b[0m\n\u001b[1;32m     39\u001b[0m sc\u001b[38;5;241m.\u001b[39mpp\u001b[38;5;241m.\u001b[39mfilter_cells(adata_tmp, max_genes \u001b[38;5;241m=\u001b[39m \u001b[38;5;241m3500\u001b[39m)\n\u001b[1;32m     40\u001b[0m \u001b[38;5;28mprint\u001b[39m(\u001b[38;5;124m'\u001b[39m\u001b[38;5;124mNumber of cells after gene filter: \u001b[39m\u001b[38;5;132;01m{:d}\u001b[39;00m\u001b[38;5;124m'\u001b[39m\u001b[38;5;241m.\u001b[39mformat(adata_tmp\u001b[38;5;241m.\u001b[39mn_obs))\n\u001b[0;32m---> 41\u001b[0m adata_tmp \u001b[38;5;241m=\u001b[39m adata_tmp[\u001b[43madata_tmp\u001b[49m\u001b[38;5;241;43m.\u001b[39;49m\u001b[43mobs\u001b[49m\u001b[43m[\u001b[49m\u001b[38;5;124;43m'\u001b[39;49m\u001b[38;5;124;43mmt_frac\u001b[39;49m\u001b[38;5;124;43m'\u001b[39;49m\u001b[43m]\u001b[49m \u001b[38;5;241m<\u001b[39m \u001b[38;5;241m0.2\u001b[39m]\n\u001b[1;32m     42\u001b[0m \u001b[38;5;66;03m#Append to main adata object\u001b[39;00m\n\u001b[1;32m     43\u001b[0m adatas_raw\u001b[38;5;241m.\u001b[39mappend(adata_tmp)\n",
      "File \u001b[0;32m~/miniconda3/lib/python3.9/site-packages/pandas/core/frame.py:3505\u001b[0m, in \u001b[0;36mDataFrame.__getitem__\u001b[0;34m(self, key)\u001b[0m\n\u001b[1;32m   3503\u001b[0m \u001b[38;5;28;01mif\u001b[39;00m \u001b[38;5;28mself\u001b[39m\u001b[38;5;241m.\u001b[39mcolumns\u001b[38;5;241m.\u001b[39mnlevels \u001b[38;5;241m>\u001b[39m \u001b[38;5;241m1\u001b[39m:\n\u001b[1;32m   3504\u001b[0m     \u001b[38;5;28;01mreturn\u001b[39;00m \u001b[38;5;28mself\u001b[39m\u001b[38;5;241m.\u001b[39m_getitem_multilevel(key)\n\u001b[0;32m-> 3505\u001b[0m indexer \u001b[38;5;241m=\u001b[39m \u001b[38;5;28;43mself\u001b[39;49m\u001b[38;5;241;43m.\u001b[39;49m\u001b[43mcolumns\u001b[49m\u001b[38;5;241;43m.\u001b[39;49m\u001b[43mget_loc\u001b[49m\u001b[43m(\u001b[49m\u001b[43mkey\u001b[49m\u001b[43m)\u001b[49m\n\u001b[1;32m   3506\u001b[0m \u001b[38;5;28;01mif\u001b[39;00m is_integer(indexer):\n\u001b[1;32m   3507\u001b[0m     indexer \u001b[38;5;241m=\u001b[39m [indexer]\n",
      "File \u001b[0;32m~/miniconda3/lib/python3.9/site-packages/pandas/core/indexes/base.py:3623\u001b[0m, in \u001b[0;36mIndex.get_loc\u001b[0;34m(self, key, method, tolerance)\u001b[0m\n\u001b[1;32m   3621\u001b[0m     \u001b[38;5;28;01mreturn\u001b[39;00m \u001b[38;5;28mself\u001b[39m\u001b[38;5;241m.\u001b[39m_engine\u001b[38;5;241m.\u001b[39mget_loc(casted_key)\n\u001b[1;32m   3622\u001b[0m \u001b[38;5;28;01mexcept\u001b[39;00m \u001b[38;5;167;01mKeyError\u001b[39;00m \u001b[38;5;28;01mas\u001b[39;00m err:\n\u001b[0;32m-> 3623\u001b[0m     \u001b[38;5;28;01mraise\u001b[39;00m \u001b[38;5;167;01mKeyError\u001b[39;00m(key) \u001b[38;5;28;01mfrom\u001b[39;00m \u001b[38;5;21;01merr\u001b[39;00m\n\u001b[1;32m   3624\u001b[0m \u001b[38;5;28;01mexcept\u001b[39;00m \u001b[38;5;167;01mTypeError\u001b[39;00m:\n\u001b[1;32m   3625\u001b[0m     \u001b[38;5;66;03m# If we have a listlike key, _check_indexing_error will raise\u001b[39;00m\n\u001b[1;32m   3626\u001b[0m     \u001b[38;5;66;03m#  InvalidIndexError. Otherwise we fall through and re-raise\u001b[39;00m\n\u001b[1;32m   3627\u001b[0m     \u001b[38;5;66;03m#  the TypeError.\u001b[39;00m\n\u001b[1;32m   3628\u001b[0m     \u001b[38;5;28mself\u001b[39m\u001b[38;5;241m.\u001b[39m_check_indexing_error(key)\n",
      "\u001b[0;31mKeyError\u001b[0m: 'mt_frac'"
     ]
    }
   ],
   "source": [
    "adatas_raw = []\n",
    "# Loop to load data\n",
    "for i in range(len(folders)):\n",
    "    #Parse filenames\n",
    "    folder = folders[i]\n",
    "    geo = geo_id[i]\n",
    "    data_file = file_base+folder+geo+mat\n",
    "    barcode_file = file_base+folder+geo+barcode\n",
    "    gene_file = file_base+folder+geo+gene\n",
    "    \n",
    "    #Load data\n",
    "    adata_tmp = sc.read(data_file, cache=True)\n",
    "    adata_tmp = adata_tmp.transpose()\n",
    "    adata_tmp.X = adata_tmp.X.toarray()\n",
    "    \n",
    "    \n",
    "    \n",
    "    barcodes_tmp = pd.read_csv(barcode_file, header=None, sep='\\t')\n",
    "    genes_tmp = pd.read_csv(gene_file, header=None, sep='\\t')\n",
    "    \n",
    "    #Annotate data\n",
    "    barcodes_tmp.rename(columns={0:'barcode'}, inplace=True)\n",
    "    barcodes_tmp.set_index('barcode', inplace=True)\n",
    "    adata_tmp.obs = barcodes_tmp\n",
    "    adata_tmp.obs['batch'] = ['Sun_'+folder]*adata_tmp.n_obs\n",
    "    adata_tmp.obs['study'] = ['Sun']*adata_tmp.n_obs\n",
    "    adata_tmp.obs['chemistry'] = ['10X']*adata_tmp.n_obs\n",
    "    adata_tmp.obs['tissue'] = ['PBMCs']*adata_tmp.n_obs\n",
    "    adata_tmp.obs['species'] = ['Human']*adata_tmp.n_obs\n",
    "    adata_tmp.obs['data_type'] = ['UMI']*adata_tmp.n_obs\n",
    "\n",
    "    genes_tmp.rename(columns={0:'gene_id', 1:'gene_symbol'}, inplace=True)\n",
    "    genes_tmp.set_index('gene_symbol', inplace=True)\n",
    "    adata_tmp.var = genes_tmp\n",
    "    adata_tmp.var_names_make_unique()\n",
    "    \n",
    "    sc.pp.filter_cells(adata_tmp, min_genes = 400)\n",
    "    print('Number of cells after gene filter: {:d}'.format(adata_tmp.n_obs))\n",
    "    sc.pp.filter_cells(adata_tmp, max_genes = 3500)\n",
    "    print('Number of cells after gene filter: {:d}'.format(adata_tmp.n_obs))\n",
    "    adata_tmp = adata_tmp[adata_tmp.obs['mt_frac'] < 0.2]\n",
    "    #Append to main adata object\n",
    "    adatas_raw.append(adata_tmp)\n",
    "\n",
    "# adatas_raw.shape"
   ]
  },
  {
   "cell_type": "code",
   "execution_count": 29,
   "metadata": {},
   "outputs": [
    {
     "name": "stderr",
     "output_type": "stream",
     "text": [
      "/home/xujing/miniconda3/lib/python3.9/site-packages/anndata/_core/anndata.py:1785: FutureWarning: X.dtype being converted to np.float32 from float64. In the next version of anndata (0.9) conversion will not be automatic. Pass dtype explicitly to avoid this warning. Pass `AnnData(X, dtype=X.dtype, ...)` to get the future behavour.\n",
      "  [AnnData(sparse.csr_matrix(a.shape), obs=a.obs) for a in all_adatas],\n"
     ]
    }
   ],
   "source": [
    "# Concatenate to unique adata object\n",
    "adata_raw = adatas_raw[0].concatenate(adatas_raw[1:], batch_key='sample_ID', \n",
    "                                               batch_categories=['Sun_'+folders[i] for i in range(len(folders))])"
   ]
  },
  {
   "cell_type": "code",
   "execution_count": 30,
   "metadata": {},
   "outputs": [
    {
     "data": {
      "text/html": [
       "<div>\n",
       "<style scoped>\n",
       "    .dataframe tbody tr th:only-of-type {\n",
       "        vertical-align: middle;\n",
       "    }\n",
       "\n",
       "    .dataframe tbody tr th {\n",
       "        vertical-align: top;\n",
       "    }\n",
       "\n",
       "    .dataframe thead th {\n",
       "        text-align: right;\n",
       "    }\n",
       "</style>\n",
       "<table border=\"1\" class=\"dataframe\">\n",
       "  <thead>\n",
       "    <tr style=\"text-align: right;\">\n",
       "      <th></th>\n",
       "      <th>batch</th>\n",
       "      <th>study</th>\n",
       "      <th>chemistry</th>\n",
       "      <th>tissue</th>\n",
       "      <th>species</th>\n",
       "      <th>data_type</th>\n",
       "      <th>n_genes</th>\n",
       "      <th>sample_ID</th>\n",
       "    </tr>\n",
       "    <tr>\n",
       "      <th>barcode</th>\n",
       "      <th></th>\n",
       "      <th></th>\n",
       "      <th></th>\n",
       "      <th></th>\n",
       "      <th></th>\n",
       "      <th></th>\n",
       "      <th></th>\n",
       "      <th></th>\n",
       "    </tr>\n",
       "  </thead>\n",
       "  <tbody>\n",
       "    <tr>\n",
       "      <th>AAACCTGCACAGACAG-1-Sun_sample1_CS</th>\n",
       "      <td>Sun_sample1_CS</td>\n",
       "      <td>Sun</td>\n",
       "      <td>10X</td>\n",
       "      <td>PBMCs</td>\n",
       "      <td>Human</td>\n",
       "      <td>UMI</td>\n",
       "      <td>1269</td>\n",
       "      <td>Sun_sample1_CS</td>\n",
       "    </tr>\n",
       "    <tr>\n",
       "      <th>AAACGGGCAGTAGAGC-1-Sun_sample1_CS</th>\n",
       "      <td>Sun_sample1_CS</td>\n",
       "      <td>Sun</td>\n",
       "      <td>10X</td>\n",
       "      <td>PBMCs</td>\n",
       "      <td>Human</td>\n",
       "      <td>UMI</td>\n",
       "      <td>1314</td>\n",
       "      <td>Sun_sample1_CS</td>\n",
       "    </tr>\n",
       "    <tr>\n",
       "      <th>AAACGGGCATGGTAGG-1-Sun_sample1_CS</th>\n",
       "      <td>Sun_sample1_CS</td>\n",
       "      <td>Sun</td>\n",
       "      <td>10X</td>\n",
       "      <td>PBMCs</td>\n",
       "      <td>Human</td>\n",
       "      <td>UMI</td>\n",
       "      <td>1246</td>\n",
       "      <td>Sun_sample1_CS</td>\n",
       "    </tr>\n",
       "    <tr>\n",
       "      <th>AAACGGGGTTCCGTCT-1-Sun_sample1_CS</th>\n",
       "      <td>Sun_sample1_CS</td>\n",
       "      <td>Sun</td>\n",
       "      <td>10X</td>\n",
       "      <td>PBMCs</td>\n",
       "      <td>Human</td>\n",
       "      <td>UMI</td>\n",
       "      <td>1381</td>\n",
       "      <td>Sun_sample1_CS</td>\n",
       "    </tr>\n",
       "    <tr>\n",
       "      <th>AAACGGGTCATCGCTC-1-Sun_sample1_CS</th>\n",
       "      <td>Sun_sample1_CS</td>\n",
       "      <td>Sun</td>\n",
       "      <td>10X</td>\n",
       "      <td>PBMCs</td>\n",
       "      <td>Human</td>\n",
       "      <td>UMI</td>\n",
       "      <td>1892</td>\n",
       "      <td>Sun_sample1_CS</td>\n",
       "    </tr>\n",
       "  </tbody>\n",
       "</table>\n",
       "</div>"
      ],
      "text/plain": [
       "                                            batch study chemistry tissue  \\\n",
       "barcode                                                                    \n",
       "AAACCTGCACAGACAG-1-Sun_sample1_CS  Sun_sample1_CS   Sun       10X  PBMCs   \n",
       "AAACGGGCAGTAGAGC-1-Sun_sample1_CS  Sun_sample1_CS   Sun       10X  PBMCs   \n",
       "AAACGGGCATGGTAGG-1-Sun_sample1_CS  Sun_sample1_CS   Sun       10X  PBMCs   \n",
       "AAACGGGGTTCCGTCT-1-Sun_sample1_CS  Sun_sample1_CS   Sun       10X  PBMCs   \n",
       "AAACGGGTCATCGCTC-1-Sun_sample1_CS  Sun_sample1_CS   Sun       10X  PBMCs   \n",
       "\n",
       "                                  species data_type  n_genes       sample_ID  \n",
       "barcode                                                                       \n",
       "AAACCTGCACAGACAG-1-Sun_sample1_CS   Human       UMI     1269  Sun_sample1_CS  \n",
       "AAACGGGCAGTAGAGC-1-Sun_sample1_CS   Human       UMI     1314  Sun_sample1_CS  \n",
       "AAACGGGCATGGTAGG-1-Sun_sample1_CS   Human       UMI     1246  Sun_sample1_CS  \n",
       "AAACGGGGTTCCGTCT-1-Sun_sample1_CS   Human       UMI     1381  Sun_sample1_CS  \n",
       "AAACGGGTCATCGCTC-1-Sun_sample1_CS   Human       UMI     1892  Sun_sample1_CS  "
      ]
     },
     "execution_count": 30,
     "metadata": {},
     "output_type": "execute_result"
    }
   ],
   "source": [
    "adata_raw.obs.head()"
   ]
  },
  {
   "cell_type": "code",
   "execution_count": 31,
   "metadata": {},
   "outputs": [
    {
     "data": {
      "text/html": [
       "<div>\n",
       "<style scoped>\n",
       "    .dataframe tbody tr th:only-of-type {\n",
       "        vertical-align: middle;\n",
       "    }\n",
       "\n",
       "    .dataframe tbody tr th {\n",
       "        vertical-align: top;\n",
       "    }\n",
       "\n",
       "    .dataframe thead th {\n",
       "        text-align: right;\n",
       "    }\n",
       "</style>\n",
       "<table border=\"1\" class=\"dataframe\">\n",
       "  <thead>\n",
       "    <tr style=\"text-align: right;\">\n",
       "      <th></th>\n",
       "      <th>batch</th>\n",
       "      <th>study</th>\n",
       "      <th>chemistry</th>\n",
       "      <th>tissue</th>\n",
       "      <th>species</th>\n",
       "      <th>data_type</th>\n",
       "      <th>n_genes</th>\n",
       "    </tr>\n",
       "    <tr>\n",
       "      <th>barcode</th>\n",
       "      <th></th>\n",
       "      <th></th>\n",
       "      <th></th>\n",
       "      <th></th>\n",
       "      <th></th>\n",
       "      <th></th>\n",
       "      <th></th>\n",
       "    </tr>\n",
       "  </thead>\n",
       "  <tbody>\n",
       "    <tr>\n",
       "      <th>AAACCTGCACAGACAG-1-Sun_sample1_CS</th>\n",
       "      <td>Sun_sample1_CS</td>\n",
       "      <td>Sun</td>\n",
       "      <td>10X</td>\n",
       "      <td>PBMCs</td>\n",
       "      <td>Human</td>\n",
       "      <td>UMI</td>\n",
       "      <td>1269</td>\n",
       "    </tr>\n",
       "    <tr>\n",
       "      <th>AAACGGGCAGTAGAGC-1-Sun_sample1_CS</th>\n",
       "      <td>Sun_sample1_CS</td>\n",
       "      <td>Sun</td>\n",
       "      <td>10X</td>\n",
       "      <td>PBMCs</td>\n",
       "      <td>Human</td>\n",
       "      <td>UMI</td>\n",
       "      <td>1314</td>\n",
       "    </tr>\n",
       "    <tr>\n",
       "      <th>AAACGGGCATGGTAGG-1-Sun_sample1_CS</th>\n",
       "      <td>Sun_sample1_CS</td>\n",
       "      <td>Sun</td>\n",
       "      <td>10X</td>\n",
       "      <td>PBMCs</td>\n",
       "      <td>Human</td>\n",
       "      <td>UMI</td>\n",
       "      <td>1246</td>\n",
       "    </tr>\n",
       "    <tr>\n",
       "      <th>AAACGGGGTTCCGTCT-1-Sun_sample1_CS</th>\n",
       "      <td>Sun_sample1_CS</td>\n",
       "      <td>Sun</td>\n",
       "      <td>10X</td>\n",
       "      <td>PBMCs</td>\n",
       "      <td>Human</td>\n",
       "      <td>UMI</td>\n",
       "      <td>1381</td>\n",
       "    </tr>\n",
       "    <tr>\n",
       "      <th>AAACGGGTCATCGCTC-1-Sun_sample1_CS</th>\n",
       "      <td>Sun_sample1_CS</td>\n",
       "      <td>Sun</td>\n",
       "      <td>10X</td>\n",
       "      <td>PBMCs</td>\n",
       "      <td>Human</td>\n",
       "      <td>UMI</td>\n",
       "      <td>1892</td>\n",
       "    </tr>\n",
       "  </tbody>\n",
       "</table>\n",
       "</div>"
      ],
      "text/plain": [
       "                                            batch study chemistry tissue  \\\n",
       "barcode                                                                    \n",
       "AAACCTGCACAGACAG-1-Sun_sample1_CS  Sun_sample1_CS   Sun       10X  PBMCs   \n",
       "AAACGGGCAGTAGAGC-1-Sun_sample1_CS  Sun_sample1_CS   Sun       10X  PBMCs   \n",
       "AAACGGGCATGGTAGG-1-Sun_sample1_CS  Sun_sample1_CS   Sun       10X  PBMCs   \n",
       "AAACGGGGTTCCGTCT-1-Sun_sample1_CS  Sun_sample1_CS   Sun       10X  PBMCs   \n",
       "AAACGGGTCATCGCTC-1-Sun_sample1_CS  Sun_sample1_CS   Sun       10X  PBMCs   \n",
       "\n",
       "                                  species data_type  n_genes  \n",
       "barcode                                                       \n",
       "AAACCTGCACAGACAG-1-Sun_sample1_CS   Human       UMI     1269  \n",
       "AAACGGGCAGTAGAGC-1-Sun_sample1_CS   Human       UMI     1314  \n",
       "AAACGGGCATGGTAGG-1-Sun_sample1_CS   Human       UMI     1246  \n",
       "AAACGGGGTTCCGTCT-1-Sun_sample1_CS   Human       UMI     1381  \n",
       "AAACGGGTCATCGCTC-1-Sun_sample1_CS   Human       UMI     1892  "
      ]
     },
     "execution_count": 31,
     "metadata": {},
     "output_type": "execute_result"
    }
   ],
   "source": [
    "adata_raw.obs.drop(columns=['sample_ID'], inplace=True)\n",
    "adata_raw.obs.head()"
   ]
  },
  {
   "cell_type": "code",
   "execution_count": 32,
   "metadata": {},
   "outputs": [
    {
     "data": {
      "text/html": [
       "<div>\n",
       "<style scoped>\n",
       "    .dataframe tbody tr th:only-of-type {\n",
       "        vertical-align: middle;\n",
       "    }\n",
       "\n",
       "    .dataframe tbody tr th {\n",
       "        vertical-align: top;\n",
       "    }\n",
       "\n",
       "    .dataframe thead th {\n",
       "        text-align: right;\n",
       "    }\n",
       "</style>\n",
       "<table border=\"1\" class=\"dataframe\">\n",
       "  <thead>\n",
       "    <tr style=\"text-align: right;\">\n",
       "      <th></th>\n",
       "      <th>batch</th>\n",
       "      <th>study</th>\n",
       "      <th>chemistry</th>\n",
       "      <th>tissue</th>\n",
       "      <th>species</th>\n",
       "      <th>data_type</th>\n",
       "      <th>n_genes</th>\n",
       "    </tr>\n",
       "    <tr>\n",
       "      <th>barcode</th>\n",
       "      <th></th>\n",
       "      <th></th>\n",
       "      <th></th>\n",
       "      <th></th>\n",
       "      <th></th>\n",
       "      <th></th>\n",
       "      <th></th>\n",
       "    </tr>\n",
       "  </thead>\n",
       "  <tbody>\n",
       "    <tr>\n",
       "      <th>AAACCTGCACAGACAG-1-Sun_sample1_CS</th>\n",
       "      <td>Sun_sample1_CS</td>\n",
       "      <td>Sun</td>\n",
       "      <td>10X</td>\n",
       "      <td>PBMCs</td>\n",
       "      <td>Human</td>\n",
       "      <td>UMI</td>\n",
       "      <td>1269</td>\n",
       "    </tr>\n",
       "    <tr>\n",
       "      <th>AAACGGGCAGTAGAGC-1-Sun_sample1_CS</th>\n",
       "      <td>Sun_sample1_CS</td>\n",
       "      <td>Sun</td>\n",
       "      <td>10X</td>\n",
       "      <td>PBMCs</td>\n",
       "      <td>Human</td>\n",
       "      <td>UMI</td>\n",
       "      <td>1314</td>\n",
       "    </tr>\n",
       "    <tr>\n",
       "      <th>AAACGGGCATGGTAGG-1-Sun_sample1_CS</th>\n",
       "      <td>Sun_sample1_CS</td>\n",
       "      <td>Sun</td>\n",
       "      <td>10X</td>\n",
       "      <td>PBMCs</td>\n",
       "      <td>Human</td>\n",
       "      <td>UMI</td>\n",
       "      <td>1246</td>\n",
       "    </tr>\n",
       "    <tr>\n",
       "      <th>AAACGGGGTTCCGTCT-1-Sun_sample1_CS</th>\n",
       "      <td>Sun_sample1_CS</td>\n",
       "      <td>Sun</td>\n",
       "      <td>10X</td>\n",
       "      <td>PBMCs</td>\n",
       "      <td>Human</td>\n",
       "      <td>UMI</td>\n",
       "      <td>1381</td>\n",
       "    </tr>\n",
       "    <tr>\n",
       "      <th>AAACGGGTCATCGCTC-1-Sun_sample1_CS</th>\n",
       "      <td>Sun_sample1_CS</td>\n",
       "      <td>Sun</td>\n",
       "      <td>10X</td>\n",
       "      <td>PBMCs</td>\n",
       "      <td>Human</td>\n",
       "      <td>UMI</td>\n",
       "      <td>1892</td>\n",
       "    </tr>\n",
       "  </tbody>\n",
       "</table>\n",
       "</div>"
      ],
      "text/plain": [
       "                                            batch study chemistry tissue  \\\n",
       "barcode                                                                    \n",
       "AAACCTGCACAGACAG-1-Sun_sample1_CS  Sun_sample1_CS   Sun       10X  PBMCs   \n",
       "AAACGGGCAGTAGAGC-1-Sun_sample1_CS  Sun_sample1_CS   Sun       10X  PBMCs   \n",
       "AAACGGGCATGGTAGG-1-Sun_sample1_CS  Sun_sample1_CS   Sun       10X  PBMCs   \n",
       "AAACGGGGTTCCGTCT-1-Sun_sample1_CS  Sun_sample1_CS   Sun       10X  PBMCs   \n",
       "AAACGGGTCATCGCTC-1-Sun_sample1_CS  Sun_sample1_CS   Sun       10X  PBMCs   \n",
       "\n",
       "                                  species data_type  n_genes  \n",
       "barcode                                                       \n",
       "AAACCTGCACAGACAG-1-Sun_sample1_CS   Human       UMI     1269  \n",
       "AAACGGGCAGTAGAGC-1-Sun_sample1_CS   Human       UMI     1314  \n",
       "AAACGGGCATGGTAGG-1-Sun_sample1_CS   Human       UMI     1246  \n",
       "AAACGGGGTTCCGTCT-1-Sun_sample1_CS   Human       UMI     1381  \n",
       "AAACGGGTCATCGCTC-1-Sun_sample1_CS   Human       UMI     1892  "
      ]
     },
     "execution_count": 32,
     "metadata": {},
     "output_type": "execute_result"
    }
   ],
   "source": [
    "adata_raw.obs.index.rename('barcode', inplace=True)\n",
    "adata_raw.obs.head()"
   ]
  },
  {
   "cell_type": "code",
   "execution_count": 34,
   "metadata": {},
   "outputs": [
    {
     "data": {
      "text/plain": [
       "(8884, 32738)"
      ]
     },
     "execution_count": 34,
     "metadata": {},
     "output_type": "execute_result"
    }
   ],
   "source": [
    "adata_raw.shape\n",
    "\n",
    "\n",
    "\n",
    "adata_raw.shape"
   ]
  },
  {
   "cell_type": "markdown",
   "metadata": {},
   "source": [
    "### Pre-processed data"
   ]
  },
  {
   "cell_type": "code",
   "execution_count": 17,
   "metadata": {},
   "outputs": [
    {
     "ename": "NameError",
     "evalue": "name 'adata_pp' is not defined",
     "output_type": "error",
     "traceback": [
      "\u001b[0;31m---------------------------------------------------------------------------\u001b[0m",
      "\u001b[0;31mNameError\u001b[0m                                 Traceback (most recent call last)",
      "Input \u001b[0;32mIn [17]\u001b[0m, in \u001b[0;36m<cell line: 6>\u001b[0;34m()\u001b[0m\n\u001b[1;32m      4\u001b[0m     \u001b[38;5;28mprint\u001b[39m(i)\n\u001b[1;32m      5\u001b[0m     adatas_pp\u001b[38;5;241m.\u001b[39mappend(sc\u001b[38;5;241m.\u001b[39mread(i, cache\u001b[38;5;241m=\u001b[39m\u001b[38;5;28;01mTrue\u001b[39;00m)) \n\u001b[0;32m----> 6\u001b[0m \u001b[43madata_pp\u001b[49m\u001b[38;5;241m.\u001b[39mshape\n",
      "\u001b[0;31mNameError\u001b[0m: name 'adata_pp' is not defined"
     ]
    }
   ],
   "source": [
    "file_paths = 'write/Sun/'\n",
    "adatas_pp = []\n",
    "for i in glob.glob(file_paths+'*.h5ad'):\n",
    "    print(i)\n",
    "    adatas_pp.append(sc.read(i, cache=True)) "
   ]
  },
  {
   "cell_type": "code",
   "execution_count": 14,
   "metadata": {},
   "outputs": [],
   "source": [
    "folders = ['sample1_CS', 'sample4_TC', 'sample3_TB', 'sample2_KC']\n",
    "for i in range(len(adatas_pp)):\n",
    "    adata_tmp = adatas_pp[i]\n",
    "    adata_obs = adata_tmp.obs.reset_index()\n",
    "    adata_obs = adata_obs[['index', 'final_annotation', 'n_counts', 'n_genes', 'mt_frac']].rename(columns = {'index':'barcode'})\n",
    "    adata_obs['barcode'] = adata_obs['barcode']+['-Sun_'+folders[i]]*adata_tmp.n_obs\n",
    "    adata_obs.set_index('barcode', inplace = True)\n",
    "    adatas_pp[i].obs = adata_obs\n",
    "    "
   ]
  },
  {
   "cell_type": "code",
   "execution_count": 15,
   "metadata": {},
   "outputs": [
    {
     "ename": "IndexError",
     "evalue": "list index out of range",
     "output_type": "error",
     "traceback": [
      "\u001b[0;31m---------------------------------------------------------------------------\u001b[0m",
      "\u001b[0;31mIndexError\u001b[0m                                Traceback (most recent call last)",
      "Input \u001b[0;32mIn [15]\u001b[0m, in \u001b[0;36m<cell line: 2>\u001b[0;34m()\u001b[0m\n\u001b[1;32m      1\u001b[0m \u001b[38;5;66;03m# Concatenate to unique adata object\u001b[39;00m\n\u001b[0;32m----> 2\u001b[0m adata_pp \u001b[38;5;241m=\u001b[39m \u001b[43madatas_pp\u001b[49m\u001b[43m[\u001b[49m\u001b[38;5;241;43m0\u001b[39;49m\u001b[43m]\u001b[49m\u001b[38;5;241m.\u001b[39mconcatenate(adatas_pp[\u001b[38;5;241m1\u001b[39m:], batch_key\u001b[38;5;241m=\u001b[39m\u001b[38;5;124m'\u001b[39m\u001b[38;5;124msample_ID\u001b[39m\u001b[38;5;124m'\u001b[39m,\n\u001b[1;32m      3\u001b[0m                                                         index_unique\u001b[38;5;241m=\u001b[39m\u001b[38;5;28;01mNone\u001b[39;00m)\n",
      "\u001b[0;31mIndexError\u001b[0m: list index out of range"
     ]
    }
   ],
   "source": [
    "# Concatenate to unique adata object\n",
    "adata_pp = adatas_pp[0].concatenate(adatas_pp[1:], batch_key='sample_ID',\n",
    "                                                        index_unique=None)"
   ]
  },
  {
   "cell_type": "code",
   "execution_count": 41,
   "metadata": {},
   "outputs": [],
   "source": [
    "adata_pp.obs.drop(columns=['sample_ID'], inplace = True)"
   ]
  },
  {
   "cell_type": "code",
   "execution_count": 18,
   "metadata": {},
   "outputs": [
    {
     "data": {
      "text/plain": [
       "(8922, 32738)"
      ]
     },
     "execution_count": 18,
     "metadata": {},
     "output_type": "execute_result"
    }
   ],
   "source": [
    "adata_raw.shape"
   ]
  },
  {
   "cell_type": "code",
   "execution_count": 43,
   "metadata": {},
   "outputs": [
    {
     "data": {
      "text/plain": [
       "(8829, 9699)"
      ]
     },
     "execution_count": 43,
     "metadata": {},
     "output_type": "execute_result"
    }
   ],
   "source": [
    "adata_pp.shape"
   ]
  },
  {
   "cell_type": "code",
   "execution_count": 19,
   "metadata": {},
   "outputs": [
    {
     "ename": "NameError",
     "evalue": "name 'adata_pp' is not defined",
     "output_type": "error",
     "traceback": [
      "\u001b[0;31m---------------------------------------------------------------------------\u001b[0m",
      "\u001b[0;31mNameError\u001b[0m                                 Traceback (most recent call last)",
      "Input \u001b[0;32mIn [19]\u001b[0m, in \u001b[0;36m<cell line: 3>\u001b[0;34m()\u001b[0m\n\u001b[1;32m      1\u001b[0m \u001b[38;5;66;03m# Restrict to cells that passed QC and were annotated\u001b[39;00m\n\u001b[1;32m      2\u001b[0m adata_obs_raw \u001b[38;5;241m=\u001b[39m adata_raw\u001b[38;5;241m.\u001b[39mobs\u001b[38;5;241m.\u001b[39mreset_index()\n\u001b[0;32m----> 3\u001b[0m adata_obs_pp \u001b[38;5;241m=\u001b[39m \u001b[43madata_pp\u001b[49m\u001b[38;5;241m.\u001b[39mobs\u001b[38;5;241m.\u001b[39mreset_index()\n\u001b[1;32m      4\u001b[0m adata_merged \u001b[38;5;241m=\u001b[39m adata_obs_raw\u001b[38;5;241m.\u001b[39mmerge(adata_obs_pp, on\u001b[38;5;241m=\u001b[39m\u001b[38;5;124m'\u001b[39m\u001b[38;5;124mbarcode\u001b[39m\u001b[38;5;124m'\u001b[39m, how\u001b[38;5;241m=\u001b[39m\u001b[38;5;124m'\u001b[39m\u001b[38;5;124mleft\u001b[39m\u001b[38;5;124m'\u001b[39m)\n\u001b[1;32m      5\u001b[0m adata_merged\u001b[38;5;241m.\u001b[39mset_index(\u001b[38;5;124m'\u001b[39m\u001b[38;5;124mbarcode\u001b[39m\u001b[38;5;124m'\u001b[39m, inplace \u001b[38;5;241m=\u001b[39m \u001b[38;5;28;01mTrue\u001b[39;00m)\n",
      "\u001b[0;31mNameError\u001b[0m: name 'adata_pp' is not defined"
     ]
    }
   ],
   "source": [
    "# Restrict to cells that passed QC and were annotated\n",
    "adata_obs_raw = adata_raw.obs.reset_index()\n",
    "adata_obs_pp = adata_pp.obs.reset_index()\n",
    "adata_merged = adata_obs_raw.merge(adata_obs_pp, on='barcode', how='left')\n",
    "adata_merged.set_index('barcode', inplace = True)\n",
    "adata_raw.obs = adata_merged\n",
    "adata_raw.obs.head()"
   ]
  },
  {
   "cell_type": "code",
   "execution_count": 45,
   "metadata": {},
   "outputs": [
    {
     "data": {
      "text/plain": [
       "(8829, 32738)"
      ]
     },
     "execution_count": 45,
     "metadata": {},
     "output_type": "execute_result"
    }
   ],
   "source": [
    "adata_raw = adata_raw[~pd.isnull(adata_raw.obs['final_annotation'])]\n",
    "adata_raw.shape"
   ]
  },
  {
   "cell_type": "markdown",
   "metadata": {},
   "source": [
    "### Normalization"
   ]
  },
  {
   "cell_type": "code",
   "execution_count": 46,
   "metadata": {},
   "outputs": [
    {
     "name": "stdout",
     "output_type": "stream",
     "text": [
      "Total number of genes: 32738\n",
      "filtered out 12348 genes that are detectedin less than 1 cells\n"
     ]
    },
    {
     "name": "stderr",
     "output_type": "stream",
     "text": [
      "Trying to set attribute `.var` of view, making a copy.\n"
     ]
    },
    {
     "name": "stdout",
     "output_type": "stream",
     "text": [
      "Number of genes after cell filter: 20390\n"
     ]
    }
   ],
   "source": [
    "# Exclude genes that are = 0 in all cells\n",
    "#Filter genes:\n",
    "print('Total number of genes: {:d}'.format(adata_raw.n_vars))\n",
    "\n",
    "# Min 20 cells - filters out 0 count genes\n",
    "sc.pp.filter_genes(adata_raw, min_cells=1)\n",
    "print('Number of genes after cell filter: {:d}'.format(adata_raw.n_vars))"
   ]
  },
  {
   "cell_type": "code",
   "execution_count": 47,
   "metadata": {},
   "outputs": [
    {
     "name": "stdout",
     "output_type": "stream",
     "text": [
      "normalizing by total count per cell\n",
      "    finished (0:00:01): normalized adata.X and added    'n_counts', counts per cell before normalization (adata.obs)\n",
      "computing PCA with n_comps = 15\n",
      "    finished (0:00:05)\n",
      "computing neighbors\n",
      "    using 'X_pca' with n_pcs = 15\n",
      "    finished: added to `.uns['neighbors']`\n",
      "    'distances', distances for each pair of neighbors\n",
      "    'connectivities', weighted adjacency matrix (0:00:06)\n",
      "running Louvain clustering\n",
      "    using the \"louvain\" package of Traag (2017)\n",
      "    finished: found 12 clusters and added\n",
      "    'groups', the cluster labels (adata.obs, categorical) (0:00:00)\n"
     ]
    }
   ],
   "source": [
    "#Perform a clustering for scran normalization in clusters\n",
    "adata_pp = adata_raw.copy()\n",
    "sc.pp.normalize_per_cell(adata_pp, counts_per_cell_after=1e6)\n",
    "sc.pp.log1p(adata_pp)\n",
    "sc.pp.pca(adata_pp, n_comps=15, svd_solver='arpack')\n",
    "sc.pp.neighbors(adata_pp)\n",
    "sc.tl.louvain(adata_pp, key_added='groups', resolution=0.5)"
   ]
  },
  {
   "cell_type": "code",
   "execution_count": 48,
   "metadata": {},
   "outputs": [
    {
     "data": {
      "text/plain": [
       "0     1629\n",
       "1     1614\n",
       "2      783\n",
       "3      773\n",
       "4      764\n",
       "5      761\n",
       "6      688\n",
       "7      657\n",
       "8      444\n",
       "9      409\n",
       "10     239\n",
       "11      68\n",
       "Name: groups, dtype: int64"
      ]
     },
     "execution_count": 48,
     "metadata": {},
     "output_type": "execute_result"
    }
   ],
   "source": [
    "# Check if the minimum number of cells per cluster is < 21:in that case, sizes will be also passed as input to the normalization\n",
    "adata_pp.obs['groups'].value_counts()"
   ]
  },
  {
   "cell_type": "code",
   "execution_count": 49,
   "metadata": {},
   "outputs": [],
   "source": [
    "#Preprocess variables for scran normalization\n",
    "input_groups = adata_pp.obs['groups']\n",
    "data_mat = adata_raw.X.T"
   ]
  },
  {
   "cell_type": "code",
   "execution_count": 50,
   "metadata": {},
   "outputs": [],
   "source": [
    "%%R -i data_mat -i input_groups -o size_factors\n",
    "\n",
    "size_factors = computeSumFactors(data_mat, clusters=input_groups, min.mean=0.1)"
   ]
  },
  {
   "cell_type": "code",
   "execution_count": 51,
   "metadata": {},
   "outputs": [],
   "source": [
    "#Delete adata_pp\n",
    "del adata_pp"
   ]
  },
  {
   "cell_type": "code",
   "execution_count": 52,
   "metadata": {},
   "outputs": [
    {
     "name": "stderr",
     "output_type": "stream",
     "text": [
      "... storing 'batch' as categorical\n",
      "... storing 'chemistry' as categorical\n",
      "... storing 'data_type' as categorical\n",
      "... storing 'species' as categorical\n",
      "... storing 'study' as categorical\n",
      "... storing 'tissue' as categorical\n",
      "... storing 'final_annotation' as categorical\n"
     ]
    },
    {
     "data": {
      "image/png": "[encoded data removed]",
      "text/plain": [
       "<Figure size 671.674x576 with 1 Axes>"
      ]
     },
     "metadata": {
      "needs_background": "light"
     },
     "output_type": "display_data"
    },
    {
     "data": {
      "image/png": "[encoded data removed]",
      "text/plain": [
       "<Figure size 671.674x576 with 1 Axes>"
      ]
     },
     "metadata": {
      "needs_background": "light"
     },
     "output_type": "display_data"
    },
    {
     "data": {
      "image/png": "[encoded data removed]",
      "text/plain": [
       "<Figure size 576x576 with 1 Axes>"
      ]
     },
     "metadata": {
      "needs_background": "light"
     },
     "output_type": "display_data"
    }
   ],
   "source": [
    "# Visualize the estimated size factors\n",
    "adata_raw.obs['size_factors'] = size_factors\n",
    "\n",
    "sc.pl.scatter(adata_raw, 'size_factors', 'n_counts')\n",
    "sc.pl.scatter(adata_raw, 'size_factors', 'n_genes')\n",
    "\n",
    "sb.distplot(size_factors, bins=50, kde=False)\n",
    "plt.show()"
   ]
  },
  {
   "cell_type": "code",
   "execution_count": 53,
   "metadata": {},
   "outputs": [],
   "source": [
    "#Keep the count data in a counts layer\n",
    "adata_raw.layers[\"counts\"] = adata_raw.X.copy()"
   ]
  },
  {
   "cell_type": "code",
   "execution_count": 54,
   "metadata": {},
   "outputs": [],
   "source": [
    "#Normalize adata \n",
    "adata_raw.X /= adata_raw.obs['size_factors'].values[:,None]\n",
    "sc.pp.log1p(adata_raw)"
   ]
  },
  {
   "cell_type": "code",
   "execution_count": 55,
   "metadata": {},
   "outputs": [],
   "source": [
    "# Save final merged object\n",
    "adata_raw.write(results_file)"
   ]
  }
 ],
 "metadata": {
  "kernelspec": {
   "display_name": "Python 3 (ipykernel)",
   "language": "python",
   "name": "python3"
  },
  "language_info": {
   "codemirror_mode": {
    "name": "ipython",
    "version": 3
   },
   "file_extension": ".py",
   "mimetype": "text/x-python",
   "name": "python",
   "nbconvert_exporter": "python",
   "pygments_lexer": "ipython3",
   "version": "3.9.7"
  }
 },
 "nbformat": 4,
 "nbformat_minor": 2
}
